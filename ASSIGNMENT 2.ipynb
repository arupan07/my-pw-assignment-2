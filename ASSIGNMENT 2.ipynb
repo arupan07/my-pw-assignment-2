{
 "cells": [
  {
   "cell_type": "code",
   "execution_count": 1,
   "id": "4626ba26-045c-4d60-9190-b719eca325e4",
   "metadata": {},
   "outputs": [
    {
     "name": "stdout",
     "output_type": "stream",
     "text": [
      "Hello, World!\n"
     ]
    }
   ],
   "source": [
    "# In Python, you can add comments to your code to provide explanations, documentations, or to temporarily disable certain parts of the code. \n",
    "# Comments are ignored by the Python interpreter and are not executed as part of the program. \n",
    "# Python supports two types of comments:\n",
    "\n",
    "# Single-line Comments:\n",
    "# Single-line comments start with a hash character (#) and continue until the end of the line. \n",
    "# Anything written after the # symbol is considered a comment and is not executed.\n",
    "\n",
    "\n",
    "# This is a single-line comment\n",
    "\n",
    "print(\"Hello, World!\")  # This is also a comment\n",
    "\n",
    "# In the example above, the lines starting with # are single-line comments. \n",
    "# They are used to provide descriptions or explanations for the code.\n",
    "\n",
    "# Multi-line Comments:\n",
    "# Multi-line comments, also known as docstrings, are used to write longer comments spanning across multiple lines. \n",
    "# They are typically used to provide detailed documentation for functions, classes, or modules. \n",
    "# In Python, multi-line comments are enclosed in triple quotes (\"\"\" or ''').\n",
    "\n",
    "\n",
    "\n",
    "\n",
    "def add(a, b):\n",
    "    \"\"\"\n",
    "    This function adds two numbers.\n",
    "    Parameters:\n",
    "    - a (int): 5\n",
    "    - b (int): 6\n",
    "    Returns:\n",
    "    - sum (int): Sum of a and b\n",
    "    \"\"\"\n",
    "    return a + b\n",
    "\n",
    "\n",
    "# In the example above, the multi-line comment is used to document the add function,\n",
    "# providing information about the parameters, return type, and the functionality of the function.\n",
    "\n",
    "# Comments are essential for making your code more readable and maintainable,\n",
    "# and they serve as valuable documentation for yourself and other developers working on the codebase.\n",
    "\n",
    "\n",
    "\n",
    "\n"
   ]
  },
  {
   "cell_type": "code",
   "execution_count": 2,
   "id": "7c5ee916-3f38-4c74-93fc-789e69f02d31",
   "metadata": {},
   "outputs": [
    {
     "name": "stdout",
     "output_type": "stream",
     "text": [
      "Arup\n",
      "25\n",
      "1.75\n",
      "True\n",
      "[85, 92, 78, 90]\n"
     ]
    }
   ],
   "source": [
    "# Q2\n",
    "# In Python, variables are used to store data values.\n",
    "# A variable is like a container that holds a value, which can be of any data type such as numbers, \n",
    "# strings, lists, or even more complex objects like functions or classes. \n",
    "# Variables allow you to manipulate and work with data in your programs.\n",
    "\n",
    "# Declaring and assigning values to variables\n",
    "name = \"Arup\"\n",
    "age = 25\n",
    "height = 1.75\n",
    "is_student = True\n",
    "grades = [85, 92, 78, 90]\n",
    "\n",
    "# Printing the values of variables\n",
    "print(name)    \n",
    "print(age)      \n",
    "print(height)   \n",
    "print(is_student) \n",
    "print(grades)   \n",
    "\n",
    "# In the example above, we declared several variables and assigned them different values. \n",
    "# The name variable holds a string value, age holds an integer value, \n",
    "# height holds a float value, is_student holds a boolean value, and grades holds a list of integers."
   ]
  },
  {
   "cell_type": "code",
   "execution_count": 3,
   "id": "e344c70c-7caa-417a-89d5-3ca3b1669f32",
   "metadata": {},
   "outputs": [
    {
     "name": "stdout",
     "output_type": "stream",
     "text": [
      "10\n",
      "3\n",
      "5.0\n",
      "3.14\n",
      "42\n",
      "3.14\n"
     ]
    }
   ],
   "source": [
    "# Q3 \n",
    "# Integer Conversion: To convert a value to an integer, we can use the int() function.\n",
    "# It can convert a string containing a numeric value or a floating-point value to an integer.\n",
    "\n",
    "# Integer conversion\n",
    "num_str = \"10\"\n",
    "num_int = int(num_str)\n",
    "print(num_int)  \n",
    "float_num = 3.14\n",
    "int_num = int(float_num)\n",
    "print(int_num) \n",
    "\n",
    "# Floating-Point Conversion: To convert a value to a floating-point number, we can use the float() function. \n",
    "# It converts the input to a float if possible.\n",
    "# Floating-point conversion\n",
    "\n",
    "num_int = 5\n",
    "num_float = float(num_int)\n",
    "print(num_float)  \n",
    "num_str = \"3.14\"\n",
    "num_float = float(num_str)\n",
    "print(num_float) \n",
    "\n",
    "# String Conversion: To convert a value to a string, we can use the str() function. \n",
    "# It converts the input to its string representation.\n",
    "\n",
    "\n",
    "# String conversion\n",
    "num_int = 42\n",
    "num_str = str(num_int)\n",
    "print(num_str)  \n",
    "num_float = 3.14\n",
    "num_str = str(num_float)\n",
    "print(num_str)  \n",
    "\n",
    "# List, Tuple, or Set Conversion: we can convert one iterable type to another.\n",
    "# For example, we can use the list(), tuple(), or set() functions to convert a list, tuple, or set, respectively.\n",
    "\n",
    "\n",
    "# List, Tuple, or Set conversion\n",
    "my_list = [1, 2, 3]\n",
    "my_tuple = tuple(my_list)\n",
    "my_set = set(my_list)"
   ]
  },
  {
   "cell_type": "code",
   "execution_count": null,
   "id": "414557df-c7ba-4f33-b384-bf0ad0affc69",
   "metadata": {},
   "outputs": [],
   "source": [
    "# Q4 \n",
    "\n",
    "# To write and execute a Python script from the command line, you can follow these steps:\n",
    "\n",
    "# 1.Open a text editor or an integrated development environment (IDE) to write your Python script. \n",
    "# For example, we can use a text editor like Notepad, Sublime Text, Visual Studio Code, or an IDE like PyCharm.\n",
    "\n",
    "# 2. Write the Python code in the text editor or IDE and save the file with a .py extension. \n",
    "# For example, we can save your script as \"my_script.py\"\n",
    "\n",
    "# 3. Open a command prompt or terminal window on your computer.\n",
    "\n",
    "# 4. Navigate to the directory where we saved our Python script using the cd (change directory) command. \n",
    "# For example, if the script is saved on the desktop, you can use the following command: \"cd Desktop\"\n",
    "\n",
    "# 5. Once we are in the correct directory, \n",
    "# we can execute the Python script by typing python followed by the name of your script file. \"python my_script.py\"\n",
    "\n",
    "# 6. Press Enter, and the Python script will be executed. \n",
    "# The output of the script, in this case, will be printed to the command prompt or terminal.\n"
   ]
  },
  {
   "cell_type": "code",
   "execution_count": 4,
   "id": "c8760a71-afe8-4048-99a1-b9dddd3373ef",
   "metadata": {},
   "outputs": [
    {
     "name": "stdout",
     "output_type": "stream",
     "text": [
      "[2, 3]\n"
     ]
    }
   ],
   "source": [
    "# Q5\n",
    "\n",
    "# To slice the list my_list and obtain the sub-list [2, 3], we can use the following code:\n",
    "\n",
    "\n",
    "my_list = [1, 2, 3, 4, 5]\n",
    "sub_list = my_list[1:3]\n",
    "print(sub_list)\n"
   ]
  },
  {
   "cell_type": "code",
   "execution_count": 5,
   "id": "50111b72-4ef8-4ff4-880d-3db79c28cfff",
   "metadata": {},
   "outputs": [
    {
     "name": "stdout",
     "output_type": "stream",
     "text": [
      "(3+4j)\n",
      "(-0-2j)\n",
      "3.0\n",
      "4.0\n",
      "(3+2j)\n",
      "(8-6j)\n",
      "(-2+1.5j)\n"
     ]
    }
   ],
   "source": [
    "# Q6\n",
    "\n",
    "# In mathematics, a complex number is a number that comprises both a real part and an imaginary part.\n",
    "# It is represented in the form \"a + bi\", where \"a\" represents the real part, \"b\" represents the imaginary part, \n",
    "# and \"i\" represents the imaginary unit (√(-1)).\n",
    "\n",
    "# In Python, complex numbers can be represented using the built-in complex data type. \n",
    "# The imaginary part of a complex number in Python is denoted by appending the letter \"j\" or \"J\" to the value.\n",
    "# Here's an example of creating and working with complex numbers in Python:\n",
    "\n",
    "\n",
    "\n",
    "z1 = 3 + 4j\n",
    "z2 = -2j\n",
    "\n",
    "\n",
    "print(z1)  \n",
    "print(z2)  \n",
    "\n",
    "\n",
    "print(z1.real)  \n",
    "print(z1.imag)   \n",
    "\n",
    "\n",
    "z3 = z1 + z2\n",
    "z4 = z1 * z2\n",
    "z5 = z1 / z2\n",
    "\n",
    "print(z3)  \n",
    "print(z4)  \n",
    "print(z5)  "
   ]
  },
  {
   "cell_type": "code",
   "execution_count": null,
   "id": "93562e34-0424-48b8-9c3e-764c8057f9b8",
   "metadata": {},
   "outputs": [],
   "source": [
    "# Q7\n",
    "\n",
    "# The correct way to declare a variable named age and assign the value 25 to it in Python is as follows:\n",
    "\n",
    "\n",
    "age = 25\n",
    "\n",
    "# In this code, the variable age is declared and assigned the value 25 using the assignment operator (=). \n",
    "# This line of code creates a variable named age and assigns it the value 25.\n",
    "\n",
    "# After this declaration, we can use the variable age in our code, perform operations on it, \n",
    "# or use it in any way necessary.\n",
    "\n",
    "# It's important to note that Python is a dynamically typed language, \n",
    "# which means we do not need to specify the data type explicitly when declaring a variable. \n",
    "# Python automatically assigns the appropriate data type based on the value assigned to the variable. \n",
    "# In this case, the value 25 is an integer, so Python assigns the data type int to the age variable."
   ]
  },
  {
   "cell_type": "code",
   "execution_count": null,
   "id": "0ffa87d7-8604-40d9-b3eb-0b198dd7f062",
   "metadata": {},
   "outputs": [],
   "source": [
    "# Q8\n",
    "\n",
    "price = 9.99\n",
    "\n",
    "# In this code, the variable price is declared and assigned the value 9.99 using the assignment operator (=).\n",
    "# The data type of the variable price in this case is a floating-point number, also known as float.\n",
    "# In Python, any value with a decimal point is considered a float data type. \n",
    "# It represents real numbers, including both whole numbers and fractional parts.\n",
    "\n",
    "# In the given code, the value 9.99 contains a decimal point,\n",
    "# so Python automatically assigns the float data type to the price variable."
   ]
  },
  {
   "cell_type": "code",
   "execution_count": 7,
   "id": "669eaab6-f5c2-4240-bdc3-191587092b46",
   "metadata": {},
   "outputs": [
    {
     "name": "stdout",
     "output_type": "stream",
     "text": [
      "Arup Samader\n",
      "My name is Arup Samader.\n"
     ]
    }
   ],
   "source": [
    "# Q9\n",
    "\n",
    "# To create a variable named name and assign my full name to it as a string, I would use the following code:\n",
    "\n",
    "\n",
    "name = \"Arup Samader\"\n",
    "print(name)\n",
    "print(f\"My name is {name}.\")"
   ]
  },
  {
   "cell_type": "code",
   "execution_count": 8,
   "id": "f606df89-a66c-429f-91f8-dab356a788ff",
   "metadata": {},
   "outputs": [
    {
     "name": "stdout",
     "output_type": "stream",
     "text": [
      "World\n"
     ]
    }
   ],
   "source": [
    "# Q10\n",
    "\n",
    "# To extract the substring \"World\" from the string \"Hello, World!\", we can use string slicing in Python. \n",
    "# Here's an example:\n",
    "\n",
    "\n",
    "my_string = \"Hello, World!\"\n",
    "substring = my_string[7:12]\n",
    "print(substring)\n"
   ]
  },
  {
   "cell_type": "code",
   "execution_count": 9,
   "id": "1f9d7ff2-6125-45a0-bc82-d5e55e5cc24e",
   "metadata": {},
   "outputs": [
    {
     "name": "stdout",
     "output_type": "stream",
     "text": [
      "True\n"
     ]
    }
   ],
   "source": [
    "# Q11\n",
    "\n",
    "# To create a variable named \"is_student\" and \n",
    "# assign it a boolean value indicating whether I am currently a student or not, \n",
    "# I would use the following code:\n",
    "\n",
    "is_student = True\n",
    "\n",
    "print(is_student)"
   ]
  },
  {
   "cell_type": "code",
   "execution_count": null,
   "id": "191c04a8-44b9-426d-b14d-29e50b701b2a",
   "metadata": {},
   "outputs": [],
   "source": []
  }
 ],
 "metadata": {
  "kernelspec": {
   "display_name": "Python 3 (ipykernel)",
   "language": "python",
   "name": "python3"
  },
  "language_info": {
   "codemirror_mode": {
    "name": "ipython",
    "version": 3
   },
   "file_extension": ".py",
   "mimetype": "text/x-python",
   "name": "python",
   "nbconvert_exporter": "python",
   "pygments_lexer": "ipython3",
   "version": "3.10.8"
  }
 },
 "nbformat": 4,
 "nbformat_minor": 5
}
